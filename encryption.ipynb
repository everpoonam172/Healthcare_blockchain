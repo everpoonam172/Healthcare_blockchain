{
  "nbformat": 4,
  "nbformat_minor": 0,
  "metadata": {
    "colab": {
      "provenance": []
    },
    "kernelspec": {
      "name": "python3",
      "display_name": "Python 3"
    },
    "language_info": {
      "name": "python"
    }
  },
  "cells": [
    {
      "cell_type": "code",
      "source": [
        "import pandas as pd\n",
        "from cryptography.hazmat.primitives.ciphers import Cipher, algorithms, modes\n",
        "from cryptography.hazmat.primitives import padding\n",
        "from cryptography.hazmat.backends import default_backend\n",
        "import base64\n",
        "import os\n",
        "\n",
        "def encrypt_aes(plain_text, key):\n",
        "    # Pad plain_text to be a multiple of 16 bytes\n",
        "    padder = padding.PKCS7(algorithms.AES.block_size).padder()\n",
        "    padded_plain_text = padder.update(plain_text.encode()) + padder.finalize()\n",
        "\n",
        "    # Generate a random IV\n",
        "    iv = os.urandom(16)\n",
        "\n",
        "    # Create AES cipher object\n",
        "    cipher = Cipher(algorithms.AES(key), modes.CBC(iv), backend=default_backend())\n",
        "    encryptor = cipher.encryptor()\n",
        "\n",
        "    # Encrypt the data\n",
        "    encrypted_text = encryptor.update(padded_plain_text) + encryptor.finalize()\n",
        "\n",
        "    # Encode the encrypted data and IV in base64 for easier storage\n",
        "    encrypted_text_b64 = base64.b64encode(encrypted_text).decode('utf-8')\n",
        "    iv_b64 = base64.b64encode(iv).decode('utf-8')\n",
        "\n",
        "    return encrypted_text_b64, iv_b64\n",
        "\n",
        "def process_csv(input_csv, output_csv, key):\n",
        "    # Read the CSV file\n",
        "    df = pd.read_csv(input_csv)\n",
        "\n",
        "    # Encrypt all columns\n",
        "    encrypted_df = pd.DataFrame()\n",
        "    for column in df.columns:\n",
        "        encrypted_column = []\n",
        "        for value in df[column].astype(str):  # Convert all values to string\n",
        "            encrypted_value, _ = encrypt_aes(value, key)\n",
        "            encrypted_column.append(encrypted_value)\n",
        "        encrypted_df[column] = encrypted_column\n",
        "\n",
        "    # Write the encrypted DataFrame to a new CSV file\n",
        "    encrypted_df.to_csv(output_csv, index=False)\n",
        "    print(f\"Encrypted CSV saved to {output_csv}\")\n",
        "\n",
        "# Example usage\n",
        "key = os.urandom(32)  # 32 bytes key for AES-256\n",
        "input_csv = 'dataset_updated.csv'\n",
        "output_csv = 'encrypted_output.csv'\n",
        "\n",
        "process_csv(input_csv, output_csv, key)\n"
      ],
      "metadata": {
        "colab": {
          "base_uri": "https://localhost:8080/"
        },
        "id": "sDTdiLk80RrP",
        "outputId": "81c24ad4-6122-4bdf-d8b8-da06ab523b87"
      },
      "execution_count": 2,
      "outputs": [
        {
          "output_type": "stream",
          "name": "stdout",
          "text": [
            "Encrypted CSV saved to encrypted_output.csv\n"
          ]
        }
      ]
    },
    {
      "cell_type": "code",
      "source": [
        "\n",
        "import pandas as pd\n",
        "import hashlib\n",
        "\n",
        "def hash_md5(plain_text):\n",
        "    # Create an MD5 hash object\n",
        "    md5 = hashlib.md5()\n",
        "    # Update the hash object with the bytes of the plaintext\n",
        "    md5.update(plain_text.encode('utf-8'))\n",
        "    # Return the hexadecimal representation of the hash\n",
        "    return md5.hexdigest()\n",
        "\n",
        "def process_csv(input_csv, output_csv):\n",
        "    # Read the CSV file\n",
        "    df = pd.read_csv(input_csv)\n",
        "\n",
        "    # Hash all columns\n",
        "    hashed_df = pd.DataFrame()\n",
        "    for column in df.columns:\n",
        "        hashed_column = []\n",
        "        for value in df[column].astype(str):  # Convert all values to string\n",
        "            hashed_value = hash_md5(value)\n",
        "            hashed_column.append(hashed_value)\n",
        "        hashed_df[column] = hashed_column\n",
        "\n",
        "    # Write the hashed DataFrame to a new CSV file\n",
        "    hashed_df.to_csv(output_csv, index=False)\n",
        "    print(f\"Hashed CSV saved to {output_csv}\")\n",
        "\n",
        "# Example usage\n",
        "input_csv = 'encrypted_output.csv'\n",
        "output_csv = 'your_data.csv'\n",
        "process_csv(input_csv, output_csv)\n",
        "\n"
      ],
      "metadata": {
        "colab": {
          "base_uri": "https://localhost:8080/"
        },
        "id": "4CNNlMGc5Czu",
        "outputId": "13e5f82b-7408-4354-9d4e-d69f8ef8c89d"
      },
      "execution_count": 5,
      "outputs": [
        {
          "output_type": "stream",
          "name": "stdout",
          "text": [
            "Hashed CSV saved to your_data.csv\n"
          ]
        }
      ]
    }
  ]
}